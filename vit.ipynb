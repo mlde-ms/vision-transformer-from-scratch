{
 "cells": [
  {
   "attachments": {},
   "cell_type": "markdown",
   "metadata": {},
   "source": [
    "- Batch currently not working, as repo is private!\n",
    "\n",
    "<a target=\"_blank\" href=\"https://colab.research.google.com/github/mlde-ms/vision-transformer-from-scratch.git\">\n",
    "  <img src=\"https://colab.research.google.com/assets/colab-badge.svg\" alt=\"Open In Colab\"/>\n",
    "</a>"
   ]
  },
  {
   "cell_type": "code",
   "execution_count": null,
   "metadata": {},
   "outputs": [],
   "source": [
    "import torch\n",
    "from torchvision import datasets, transforms\n",
    "import matplotlib.pyplot as plt\n",
    "\n",
    "from vit import VisionTransformer\n",
    "from mnist_training import train\n",
    "from mnist_evaluation import evaluate\n",
    "from visualize_attention import visualize_attention_head\n",
    "\n",
    "train = False"
   ]
  },
  {
   "cell_type": "code",
   "execution_count": null,
   "metadata": {},
   "outputs": [],
   "source": [
    "model = VisionTransformer(28, 2, 2, 2, 64, 256, num_classes=10, representation_size=32)\n",
    "if (train):\n",
    "    train(model)\n",
    "\n",
    "# Expects model weights to be stored in `vit_weights.pth`\n",
    "evaluate(model)"
   ]
  },
  {
   "cell_type": "code",
   "execution_count": null,
   "metadata": {},
   "outputs": [],
   "source": [
    "# model = VisionTransformer(28, 2, 2, 2, 64, 256, num_classes=10, representation_size=32)\n",
    "# model.load_state_dict(torch.load('vit_weights.pth'), map_location=torch.device('cpu'))\n",
    "\n",
    "model.eval()\n",
    "model = model.cpu()\n",
    "\n",
    "# Define the transform to apply to the data\n",
    "transform = transforms.Compose([\n",
    "    transforms.ToTensor(),\n",
    "    transforms.Normalize((0.1307,), (0.3081,))\n",
    "])\n",
    "\n",
    "batch_size = 10\n",
    "\n",
    "# Download and load the MNIST test data\n",
    "test_data = datasets.MNIST(root='./data', train=False, transform=transform, download=True)\n",
    "# Create a data loader for the test data\n",
    "test_loader = torch.utils.data.DataLoader(test_data, batch_size=batch_size, shuffle=True)\n",
    "\n",
    "# Get a batch of test data and iterate over it\n",
    "images, labels = next(iter(test_loader))\n",
    "for i in range(batch_size):\n",
    "\n",
    "    image = images[i]\n",
    "    label = labels[i].item()\n",
    "\n",
    "    # Add a dummy batch dimension of 1\n",
    "    image = image[None]\n",
    "    # Get the model prediction\n",
    "    out = model(image)\n",
    "\n",
    "    for layer in range(2):\n",
    "        for head in range(2):\n",
    "            attention_output = model.get_attention_output(image, layer, head)\n",
    "            visualize_attention_head(attention_output[0], 196, 2, f'layer_{layer}_head_{head}.png', f'attention/{i}_{label}')\n",
    "\n",
    "    original_image = images[i].squeeze().numpy()\n",
    "    plt.imshow(original_image, cmap='gray')\n",
    "    plt.axis('off')\n",
    "    plt.savefig(f'attention/{i}_{label}/img.png', bbox_inches='tight')\n",
    "    plt.close()"
   ]
  }
 ],
 "metadata": {
  "kernelspec": {
   "display_name": "Python 3",
   "language": "python",
   "name": "python3"
  },
  "language_info": {
   "codemirror_mode": {
    "name": "ipython",
    "version": 3
   },
   "file_extension": ".py",
   "mimetype": "text/x-python",
   "name": "python",
   "nbconvert_exporter": "python",
   "pygments_lexer": "ipython3",
   "version": "3.10.10"
  },
  "orig_nbformat": 4
 },
 "nbformat": 4,
 "nbformat_minor": 2
}
